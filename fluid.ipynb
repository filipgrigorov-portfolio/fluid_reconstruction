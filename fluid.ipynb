{
 "cells": [
  {
   "cell_type": "code",
   "execution_count": 2,
   "id": "a15aa9c6-9d69-4174-8d99-5938c68b5c01",
   "metadata": {
    "tags": []
   },
   "outputs": [],
   "source": [
    "import matplotlib.pyplot as plt\n",
    "import numpy as np\n",
    "\n",
    "%matplotlib inline"
   ]
  },
  {
   "cell_type": "code",
   "execution_count": 3,
   "id": "c45f2802-349e-4a37-b9d0-d53941a6842d",
   "metadata": {
    "tags": []
   },
   "outputs": [
    {
     "name": "stdout",
     "output_type": "stream",
     "text": [
      "(2500, 1)\n",
      "(2500, 1)\n"
     ]
    }
   ],
   "source": [
    "N = 50\n",
    "x_range = np.arange(0, N, 1)\n",
    "y_range = np.arange(0, N, 1)\n",
    "xx, yy = np.meshgrid(x_range, y_range)\n",
    "xx_flat, yy_flat = xx.reshape(-1, 1), yy.reshape(-1, 1)\n",
    "print(xx_flat.shape)\n",
    "print(yy_flat.shape)"
   ]
  },
  {
   "cell_type": "code",
   "execution_count": null,
   "id": "f8c05905-0597-4278-b18b-f10d4eaedeb0",
   "metadata": {},
   "outputs": [],
   "source": [
    "class Fluid:\n",
    "    def __init__(self, n_x, n_y, delta_t, h):\n",
    "        self.n_x = n_x\n",
    "        self.n_y = n_y\n",
    "        self.t = delta_t\n",
    "        self.h = h\n",
    "        \n",
    "        self.u = np.zeros((n_y, n_x, 1))\n",
    "        self.v = np.zeros((n_y, n_x, 1))\n",
    "        self.ro = np.zeros((n_y, n_x, 1))\n",
    "        self.s = np.zeros((n_y, n_x, 1))\n",
    "        # The walls are the grid boundaries\n",
    "        self.s[0, ...] = 1.0\n",
    "        self.s[-1, ...] = 1.0\n",
    "        self.s[:, 0, :] = 1.0\n",
    "        self.s[:, -1, :] = 1.0\n",
    "        self.p = np.zeros((n_y, n_x, 1))\n",
    "        \n",
    "    def add_forces(self, forces_x, forces_y):\n",
    "        for i in range(1, self.n_x - 1):\n",
    "            for j in range(1, self.n_y - 1):\n",
    "                # x-direction (u) -> check boundaries\n",
    "                if self.s[i - 1, j] == 0 or self.s[i + 1, j] == 0:\n",
    "                    continue\n",
    "                self.u[i, j] += forces_x * self.t\n",
    "                \n",
    "                # y-direction (v) -> check boundaries\n",
    "                if self.s[i, j - 1] == 0 or self.s[i, j + 1] == 0:\n",
    "                    continue\n",
    "                self.v[i, j] += forces_y * self.t\n",
    "                \n",
    "    def project(self, iters, overrelaxation=1.9):\n",
    "        # apply incompressibility (fair assumption as water, for example, is about 3% compressible) -> divergence (total outflow of a cell, 2d or 3d, is 0)\n",
    "        for n in range(0, iters):\n",
    "            for i in range(1, self.n_x - 1):\n",
    "                for j in range(1, self.n_y - 1):\n",
    "                    # if the cell itself is a boundary\n",
    "                    if self.s[i, j] == 0.0:\n",
    "                        continue\n",
    "                    div = overrelaxation * (self.u[i + 1, j] - self.u[i, j] + self.v[i, j + 1] - self.v[i, j])\n",
    "                    tot_s = self.s[i + 1, j] + self.s[i - 1, j] + self.s[i, j - 1] + self.s[i, j + 1]\n",
    "                    if tot_s == 0.0:\n",
    "                        continue\n",
    "                    # equate the inflows and outflows a little bit to more or less satisfy the incompressibility condition\n",
    "                    self.u[i, j] += div * self.s[i - 1, j] / tot_s\n",
    "                    self.u[i + 1, j] -= div * self.s[i + 1, j] / tot_s\n",
    "                    self.v[i, j] += div * self.s[i, j - 1] / tot_s\n",
    "                    self.v[i, j + 1] -= div * self.s[i, j + 1] / tot_s\n",
    "                    \n",
    "                    self.p[i, j] += (div / tot_s) * (self.ro[i, j] * self.h / self.t)\n",
    "                    \n",
    "    def advection(self, norm=0.25):\n",
    "        # compute the new velocity (in the next step) and backtrace that velocity to the previous position, through interpolation\n",
    "        for i in range(1, self.n_x - 1):\n",
    "            for j in range(1, self.n_y - 1):\n",
    "                # x-direction\n",
    "                if self.s[i, j] != 0 and self.s[i + 1, j] != 0:\n",
    "                    u = self.u[i, j]\n",
    "                    v = norm * (self.v[i, j] + self.v[i, j + 1] + self.v[i - 1, j - 1] + self.v[i - 1, j])\n",
    "                    u_pos = i * h\n",
    "                    v_pos = j * h + h * 0.5\n",
    "                    '''\n",
    "                    (h,h)\n",
    "                    ********\n",
    "                    *-\\\n",
    "                    *  > h/2\n",
    "                    *-/\n",
    "                    v\n",
    "                    *\n",
    "                    *\n",
    "                    ********\n",
    "                    '''\n",
    "                    x, y = u_pos - u * self.t, v_pos - v * self.t\n",
    "                    u = \n",
    "                    sel.u[i, j] = u\n",
    "                \n",
    "                # y-direction\n",
    "                if :\n",
    "                    u = norm * (self.u[i, j] + self.u[i, j - 1] + self.u[i + 1, j] + self.u[i + 1, j - 1])\n",
    "                    v = self.v[i, j]\n",
    "                    u_pos = i * h\n",
    "                    v_pos = j * h + h * 0.5\n",
    "                    x, y = u_pos - u * self.t, v_pos - v * self.t\n",
    "                    v = \n",
    "                    sel.v[i, j] = v "
   ]
  }
 ],
 "metadata": {
  "kernelspec": {
   "display_name": "Python 3 (ipykernel)",
   "language": "python",
   "name": "python3"
  },
  "language_info": {
   "codemirror_mode": {
    "name": "ipython",
    "version": 3
   },
   "file_extension": ".py",
   "mimetype": "text/x-python",
   "name": "python",
   "nbconvert_exporter": "python",
   "pygments_lexer": "ipython3",
   "version": "3.11.5"
  }
 },
 "nbformat": 4,
 "nbformat_minor": 5
}
